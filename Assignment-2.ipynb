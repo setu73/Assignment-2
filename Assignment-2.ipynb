{
 "cells": [
  {
   "cell_type": "markdown",
   "id": "8be652d3",
   "metadata": {},
   "source": [
    "# ANS 1"
   ]
  },
  {
   "cell_type": "markdown",
   "id": "f5438b1e",
   "metadata": {},
   "source": [
    "We can comment in python using # and \"\"\" \"\"\" symbols.There are 2 types of comments in python single-line and multi-line.By using # we can achieve single-line comment and by using \"\"\" \"\"\" we can schieve multiline comments."
   ]
  },
  {
   "cell_type": "code",
   "execution_count": 1,
   "id": "971c2134",
   "metadata": {},
   "outputs": [
    {
     "data": {
      "text/plain": [
       "'\\nthis is a multi-line comment.\\nwe can write in multiple lines.\\n'"
      ]
     },
     "execution_count": 1,
     "metadata": {},
     "output_type": "execute_result"
    }
   ],
   "source": [
    "#this is a single line comment.\n",
    "\"\"\"\n",
    "this is a multi-line comment.\n",
    "we can write in multiple lines.\n",
    "\"\"\""
   ]
  },
  {
   "cell_type": "markdown",
   "id": "34313f57",
   "metadata": {},
   "source": [
    "# ANS 2"
   ]
  },
  {
   "cell_type": "markdown",
   "id": "e2013ef8",
   "metadata": {},
   "source": [
    "In Python, a variable is a named reference to a value stored in the computer's memory.It is used to store data which can be manupulated in the programs.In python we write name of the variable and assign some value to it which can be anything such as integers,floats etc ,in this way we declare and assign values to the variables."
   ]
  },
  {
   "cell_type": "code",
   "execution_count": 2,
   "id": "8a9cd16a",
   "metadata": {},
   "outputs": [
    {
     "name": "stdout",
     "output_type": "stream",
     "text": [
      "3\n",
      "<class 'int'>\n",
      "hello\n",
      "<class 'str'>\n",
      "0.4\n",
      "<class 'float'>\n"
     ]
    }
   ],
   "source": [
    "a=3\n",
    "str=\"hello\"\n",
    "x=0.4\n",
    "print(a)\n",
    "print(type(a))\n",
    "print(str)\n",
    "print(type(str))\n",
    "print(x)\n",
    "print(type(x))"
   ]
  },
  {
   "cell_type": "markdown",
   "id": "eb615953",
   "metadata": {},
   "source": [
    "# ANS 3"
   ]
  },
  {
   "cell_type": "markdown",
   "id": "d14aac36",
   "metadata": {},
   "source": [
    "In Python, we can convert one data type to another using type conversion functions or constructors specific to each data type."
   ]
  },
  {
   "cell_type": "code",
   "execution_count": 3,
   "id": "28c17eab",
   "metadata": {},
   "outputs": [
    {
     "name": "stdout",
     "output_type": "stream",
     "text": [
      "45744\n",
      "<class 'int'>\n"
     ]
    }
   ],
   "source": [
    "str1=\"45744\"\n",
    "int1=int(str1)\n",
    "print(int1)\n",
    "print(type(int1))"
   ]
  },
  {
   "cell_type": "code",
   "execution_count": 4,
   "id": "d458b2dd",
   "metadata": {},
   "outputs": [
    {
     "name": "stdout",
     "output_type": "stream",
     "text": [
      "apple, banana, orange\n",
      "<class 'str'>\n"
     ]
    }
   ],
   "source": [
    "my_list = ['apple', 'banana', 'orange']\n",
    "str2 = \", \".join(my_list)\n",
    "print(str2)\n",
    "print(type(str2))"
   ]
  },
  {
   "cell_type": "markdown",
   "id": "25bfd923",
   "metadata": {},
   "source": [
    "# ANS 4"
   ]
  },
  {
   "cell_type": "markdown",
   "id": "6479a628",
   "metadata": {},
   "source": [
    "To run a python script from command line we have follow given steps:\n",
    "1.Open a text editor like Notepad, Notepad++, or any other code editor of our choice.\n",
    "\n",
    "2.Write our Python code in the editor and save the file with a .py extension. For example, we can save it as script.py.\n",
    "\n",
    "3.Open the Command Prompt by pressing Win + R and typing cmd followed by Enter.\n",
    "\n",
    "4.Use the cd command (Change Directory) to navigate to the directory where our Python script is located.\n",
    "\n",
    "5.Once we are in the correct directory, we can execute the Python script by typing python followed by the name of the script file.\n",
    "\n",
    "6.Press Enter to run the command. The Python script will be executed, and the output, if any, will be displayed in the Command Prompt."
   ]
  },
  {
   "cell_type": "markdown",
   "id": "69ae16c6",
   "metadata": {},
   "source": [
    "# ANS 5"
   ]
  },
  {
   "cell_type": "code",
   "execution_count": 5,
   "id": "ee38fc04",
   "metadata": {},
   "outputs": [
    {
     "data": {
      "text/plain": [
       "[2, 3]"
      ]
     },
     "execution_count": 5,
     "metadata": {},
     "output_type": "execute_result"
    }
   ],
   "source": [
    "my_list = [1, 2, 3, 4, 5]\n",
    "my_list[1:3]"
   ]
  },
  {
   "cell_type": "markdown",
   "id": "2ade5f9d",
   "metadata": {},
   "source": [
    "# ANS 6"
   ]
  },
  {
   "cell_type": "markdown",
   "id": "c9aa2a4d",
   "metadata": {},
   "source": [
    "In mathematics, a complex number is a number that comprises a real part and an imaginary part.It is written in the form a + bi, where a represents the real part,b represents the imaginary part, and i represents the imaginary unit square root of negative 1. The real part and the imaginary part can be any real numbers.\n",
    "In Python, complex numbers are represented using the complex data type."
   ]
  },
  {
   "cell_type": "code",
   "execution_count": 6,
   "id": "4f7b1fe1",
   "metadata": {},
   "outputs": [
    {
     "name": "stdout",
     "output_type": "stream",
     "text": [
      "(3+4j)\n"
     ]
    }
   ],
   "source": [
    "x=complex(3,4)\n",
    "print(x)"
   ]
  },
  {
   "cell_type": "code",
   "execution_count": 7,
   "id": "39162f42",
   "metadata": {},
   "outputs": [
    {
     "name": "stdout",
     "output_type": "stream",
     "text": [
      "<class 'complex'>\n"
     ]
    }
   ],
   "source": [
    "y=4+3j\n",
    "print(type(y))"
   ]
  },
  {
   "cell_type": "markdown",
   "id": "7bf2792a",
   "metadata": {},
   "source": [
    "# ANS 7"
   ]
  },
  {
   "cell_type": "code",
   "execution_count": 8,
   "id": "e8a84004",
   "metadata": {},
   "outputs": [
    {
     "name": "stdout",
     "output_type": "stream",
     "text": [
      "25\n"
     ]
    }
   ],
   "source": [
    "age=25\n",
    "print(age)"
   ]
  },
  {
   "cell_type": "markdown",
   "id": "b9ad0338",
   "metadata": {},
   "source": [
    "# ANS 8"
   ]
  },
  {
   "cell_type": "code",
   "execution_count": 9,
   "id": "278dae23",
   "metadata": {},
   "outputs": [
    {
     "name": "stdout",
     "output_type": "stream",
     "text": [
      "<class 'float'>\n"
     ]
    }
   ],
   "source": [
    "price=9.99\n",
    "print(type(price))"
   ]
  },
  {
   "cell_type": "markdown",
   "id": "10eb216d",
   "metadata": {},
   "source": [
    "# ANS 9"
   ]
  },
  {
   "cell_type": "code",
   "execution_count": 10,
   "id": "632fc53a",
   "metadata": {},
   "outputs": [
    {
     "name": "stdout",
     "output_type": "stream",
     "text": [
      "Setu Raj\n"
     ]
    }
   ],
   "source": [
    "name=\"Setu Raj\"\n",
    "print(name)"
   ]
  },
  {
   "cell_type": "markdown",
   "id": "489f6fbd",
   "metadata": {},
   "source": [
    "# ANS 10"
   ]
  },
  {
   "cell_type": "code",
   "execution_count": 11,
   "id": "49b02651",
   "metadata": {},
   "outputs": [
    {
     "name": "stdout",
     "output_type": "stream",
     "text": [
      "World\n"
     ]
    }
   ],
   "source": [
    "str=\"Hello World!\"\n",
    "print(str[6:-1])"
   ]
  },
  {
   "cell_type": "markdown",
   "id": "3c03fa63",
   "metadata": {},
   "source": [
    "# ANS 11"
   ]
  },
  {
   "cell_type": "code",
   "execution_count": 12,
   "id": "a55d4e64",
   "metadata": {},
   "outputs": [
    {
     "name": "stdout",
     "output_type": "stream",
     "text": [
      "True\n"
     ]
    }
   ],
   "source": [
    "is_student=True\n",
    "print(is_student)"
   ]
  },
  {
   "cell_type": "code",
   "execution_count": null,
   "id": "4c25e091",
   "metadata": {},
   "outputs": [],
   "source": []
  }
 ],
 "metadata": {
  "kernelspec": {
   "display_name": "Python 3 (ipykernel)",
   "language": "python",
   "name": "python3"
  },
  "language_info": {
   "codemirror_mode": {
    "name": "ipython",
    "version": 3
   },
   "file_extension": ".py",
   "mimetype": "text/x-python",
   "name": "python",
   "nbconvert_exporter": "python",
   "pygments_lexer": "ipython3",
   "version": "3.11.2"
  }
 },
 "nbformat": 4,
 "nbformat_minor": 5
}
